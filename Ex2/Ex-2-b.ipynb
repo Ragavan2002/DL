{
 "cells": [
  {
   "cell_type": "code",
   "execution_count": 1,
   "metadata": {},
   "outputs": [],
   "source": [
    "import torch\n",
    "import torch.nn as nn\n",
    "import torch.optim as optim"
   ]
  },
  {
   "cell_type": "code",
   "execution_count": 2,
   "metadata": {},
   "outputs": [],
   "source": [
    "X = torch.Tensor([[0, 0], [0, 1], [1, 0], [1, 1]])\n",
    "Y = torch.Tensor([[0], [1], [1], [0]])"
   ]
  },
  {
   "cell_type": "code",
   "execution_count": 3,
   "metadata": {},
   "outputs": [],
   "source": [
    "class XORModel(nn.Module):\n",
    "    def __init__(self):\n",
    "        super().__init__()\n",
    "        self.layer1 = nn.Linear(2, 2)\n",
    "        self.layer2 = nn.Linear(2, 1)\n",
    "\n",
    "    def forward(self, X):\n",
    "        X = torch.sigmoid(self.layer1(X))\n",
    "        X = torch.sigmoid(self.layer2(X))\n",
    "        return X"
   ]
  },
  {
   "cell_type": "code",
   "execution_count": 4,
   "metadata": {},
   "outputs": [],
   "source": [
    "model = XORModel()"
   ]
  },
  {
   "cell_type": "code",
   "execution_count": 5,
   "metadata": {},
   "outputs": [],
   "source": [
    "criterion = nn.L1Loss()\n",
    "optimizer = optim.SGD(model.parameters(), lr=0.1)"
   ]
  },
  {
   "cell_type": "code",
   "execution_count": 6,
   "metadata": {},
   "outputs": [
    {
     "name": "stdout",
     "output_type": "stream",
     "text": [
      "Epoch [1000/10000], Loss: 0.5000017881393433\n",
      "Epoch [2000/10000], Loss: 0.49999678134918213\n",
      "Epoch [3000/10000], Loss: 0.4999919533729553\n",
      "Epoch [4000/10000], Loss: 0.4999869465827942\n",
      "Epoch [5000/10000], Loss: 0.49998146295547485\n",
      "Epoch [6000/10000], Loss: 0.49997517466545105\n",
      "Epoch [7000/10000], Loss: 0.49996745586395264\n",
      "Epoch [8000/10000], Loss: 0.49995744228363037\n",
      "Epoch [9000/10000], Loss: 0.49994367361068726\n",
      "Epoch [10000/10000], Loss: 0.49992313981056213\n"
     ]
    }
   ],
   "source": [
    "iterloss=[]\n",
    "for epoch in range(10000):\n",
    "    optimizer.zero_grad()\n",
    "    outputs = model(X)\n",
    "    loss = criterion(outputs, Y)\n",
    "    loss.backward()\n",
    "    optimizer.step()\n",
    "    iterloss.append(loss.item())\n",
    "    if (epoch+1) % 1000 == 0:\n",
    "        print(f'Epoch [{epoch+1}/10000], Loss: {loss.item()}')"
   ]
  },
  {
   "cell_type": "code",
   "execution_count": 7,
   "metadata": {},
   "outputs": [
    {
     "name": "stdout",
     "output_type": "stream",
     "text": [
      "Prediction:\n",
      " tensor([[0.5659],\n",
      "        [0.5654],\n",
      "        [0.5645],\n",
      "        [0.5637]])\n"
     ]
    }
   ],
   "source": [
    "with torch.no_grad():\n",
    "    out = model(X)\n",
    "    print(\"Prediction:\\n\",out)"
   ]
  },
  {
   "cell_type": "code",
   "execution_count": null,
   "metadata": {},
   "outputs": [],
   "source": []
  }
 ],
 "metadata": {
  "kernelspec": {
   "display_name": "Python 3 (ipykernel)",
   "language": "python",
   "name": "python3"
  },
  "language_info": {
   "codemirror_mode": {
    "name": "ipython",
    "version": 3
   },
   "file_extension": ".py",
   "mimetype": "text/x-python",
   "name": "python",
   "nbconvert_exporter": "python",
   "pygments_lexer": "ipython3",
   "version": "3.9.12"
  },
  "vscode": {
   "interpreter": {
    "hash": "2a23a7b583337357fed044b540a1066814e1a78311dffc5dbb0ee1726d34e86a"
   }
  }
 },
 "nbformat": 4,
 "nbformat_minor": 2
}
